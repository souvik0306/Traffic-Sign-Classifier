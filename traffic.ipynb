{
 "cells": [
  {
   "cell_type": "code",
   "execution_count": 1,
   "metadata": {},
   "outputs": [],
   "source": [
    "from pathlib import Path\n",
    "import numpy as np\n",
    "import cv2\n",
    "import pandas as pd\n",
    "from tqdm import tqdm\n",
    "import PIL.Image as Image\n",
    "import matplotlib.pyplot as plt\n",
    "from sklearn.model_selection import train_test_split\n",
    "from sklearn.metrics import confusion_matrix, classification_report\n",
    "from glob import glob\n",
    "import tensorflow as tf\n",
    "from tensorflow import keras"
   ]
  },
  {
   "cell_type": "code",
   "execution_count": 2,
   "metadata": {},
   "outputs": [],
   "source": [
    "from tensorflow.keras.utils import to_categorical\n",
    "from keras.models import Sequential\n",
    "from keras.layers import Conv2D,MaxPool2D,Dense,Flatten,Dropout"
   ]
  },
  {
   "cell_type": "code",
   "execution_count": 3,
   "metadata": {},
   "outputs": [],
   "source": [
    "data = []\n",
    "labels = []\n",
    "\n",
    "classes = 43\n",
    "import os\n",
    "current_path = os.getcwd()"
   ]
  },
  {
   "cell_type": "code",
   "execution_count": 4,
   "metadata": {},
   "outputs": [],
   "source": [
    "for i in range(classes):\n",
    "    path = os.path.join(current_path,'Train',str(i))\n",
    "    images = os.listdir(path)\n",
    "    for a in images:\n",
    "        try:\n",
    "            image = Image.open(path+'\\\\'+a)\n",
    "            image = image.resize((64,64))\n",
    "            image = np.array(image)\n",
    "            data.append(image)\n",
    "            labels.append(i)\n",
    "        except Exception as e:\n",
    "            print(e)"
   ]
  },
  {
   "cell_type": "code",
   "execution_count": 5,
   "metadata": {},
   "outputs": [],
   "source": [
    "data = np.array(data)\n",
    "labels = np.array(labels)"
   ]
  },
  {
   "cell_type": "code",
   "execution_count": 6,
   "metadata": {},
   "outputs": [
    {
     "data": {
      "text/plain": [
       "array([ 0,  0,  0, ..., 42, 42, 42])"
      ]
     },
     "execution_count": 6,
     "metadata": {},
     "output_type": "execute_result"
    }
   ],
   "source": [
    "labels"
   ]
  },
  {
   "cell_type": "code",
   "execution_count": 7,
   "metadata": {},
   "outputs": [
    {
     "data": {
      "text/plain": [
       "((39209, 64, 64, 3), (39209,))"
      ]
     },
     "execution_count": 7,
     "metadata": {},
     "output_type": "execute_result"
    }
   ],
   "source": [
    "data.shape,labels.shape"
   ]
  },
  {
   "cell_type": "code",
   "execution_count": 8,
   "metadata": {},
   "outputs": [],
   "source": [
    "X_train,X_test,Y_train,Y_test = train_test_split(data,labels,test_size=0.2,random_state=35,shuffle=True,stratify=labels)"
   ]
  },
  {
   "cell_type": "code",
   "execution_count": 9,
   "metadata": {},
   "outputs": [
    {
     "data": {
      "text/plain": [
       "((31367, 64, 64, 3), (7842, 64, 64, 3), (31367,), (7842,))"
      ]
     },
     "execution_count": 9,
     "metadata": {},
     "output_type": "execute_result"
    }
   ],
   "source": [
    "X_train.shape,X_test.shape,Y_train.shape,Y_test.shape"
   ]
  },
  {
   "cell_type": "code",
   "execution_count": 10,
   "metadata": {},
   "outputs": [],
   "source": [
    "Y_test = to_categorical(Y_test,43)\n",
    "Y_train = to_categorical(Y_train,43)"
   ]
  },
  {
   "cell_type": "markdown",
   "metadata": {},
   "source": [
    "With the use of categorical we can now define our classes in the following way - \n",
    "\n",
    "Cats, Dog, Monkey - [0,1,2]\n",
    "\n",
    "\n",
    "Cats, Dog, Monkey - [1,0,0],[0,1,0],[0,0,1]"
   ]
  },
  {
   "cell_type": "code",
   "execution_count": 11,
   "metadata": {},
   "outputs": [
    {
     "data": {
      "text/plain": [
       "array([0., 0., 0., 0., 0., 0., 0., 0., 0., 0., 0., 0., 1., 0., 0., 0., 0.,\n",
       "       0., 0., 0., 0., 0., 0., 0., 0., 0., 0., 0., 0., 0., 0., 0., 0., 0.,\n",
       "       0., 0., 0., 0., 0., 0., 0., 0., 0.], dtype=float32)"
      ]
     },
     "execution_count": 11,
     "metadata": {},
     "output_type": "execute_result"
    }
   ],
   "source": [
    "Y_test[4]"
   ]
  },
  {
   "cell_type": "code",
   "execution_count": 12,
   "metadata": {},
   "outputs": [],
   "source": [
    "vggnet_model = Sequential()\n",
    "\n",
    "pretrained_model = tf.keras.applications.VGG16(\n",
    "    include_top=False,\n",
    "    weights=\"imagenet\",\n",
    "    input_shape=(64,64,3),\n",
    "    pooling='max',\n",
    "    classes=43)\n",
    "\n",
    "for layer in pretrained_model.layers:\n",
    "    layer.trainable = False\n",
    "\n",
    "vggnet_model.add(pretrained_model)\n",
    "vggnet_model.add(Flatten())\n",
    "vggnet_model.add(Dense(256,activation='relu'))\n",
    "vggnet_model.add(Dense(512,activation='relu'))\n",
    "vggnet_model.add(Dense(43,activation='softmax'))\n"
   ]
  },
  {
   "cell_type": "code",
   "execution_count": 13,
   "metadata": {},
   "outputs": [
    {
     "name": "stdout",
     "output_type": "stream",
     "text": [
      "Model: \"sequential\"\n",
      "_________________________________________________________________\n",
      " Layer (type)                Output Shape              Param #   \n",
      "=================================================================\n",
      " vgg16 (Functional)          (None, 512)               14714688  \n",
      "                                                                 \n",
      " flatten (Flatten)           (None, 512)               0         \n",
      "                                                                 \n",
      " dense (Dense)               (None, 256)               131328    \n",
      "                                                                 \n",
      " dense_1 (Dense)             (None, 512)               131584    \n",
      "                                                                 \n",
      " dense_2 (Dense)             (None, 43)                22059     \n",
      "                                                                 \n",
      "=================================================================\n",
      "Total params: 14,999,659\n",
      "Trainable params: 284,971\n",
      "Non-trainable params: 14,714,688\n",
      "_________________________________________________________________\n"
     ]
    }
   ],
   "source": [
    "vggnet_model.summary()"
   ]
  },
  {
   "cell_type": "code",
   "execution_count": 14,
   "metadata": {},
   "outputs": [],
   "source": [
    "from tensorflow.keras.optimizers import Adam"
   ]
  },
  {
   "cell_type": "code",
   "execution_count": 15,
   "metadata": {},
   "outputs": [],
   "source": [
    "vggnet_model.compile(optimizer=Adam(learning_rate=0.001),loss='categorical_crossentropy', metrics=['accuracy'])"
   ]
  },
  {
   "cell_type": "code",
   "execution_count": 16,
   "metadata": {},
   "outputs": [],
   "source": [
    "X_train_std = X_train/255\n",
    "X_test_std = X_test/255"
   ]
  },
  {
   "cell_type": "code",
   "execution_count": 17,
   "metadata": {},
   "outputs": [
    {
     "name": "stdout",
     "output_type": "stream",
     "text": [
      "Epoch 1/20\n",
      "736/736 [==============================] - 43s 45ms/step - loss: 1.5460 - accuracy: 0.5148 - val_loss: 1.0735 - val_accuracy: 0.6389\n",
      "Epoch 2/20\n",
      "736/736 [==============================] - 28s 38ms/step - loss: 0.8631 - accuracy: 0.7143 - val_loss: 0.7603 - val_accuracy: 0.7488\n",
      "Epoch 3/20\n",
      "736/736 [==============================] - 29s 39ms/step - loss: 0.6176 - accuracy: 0.7964 - val_loss: 0.6209 - val_accuracy: 0.7898\n",
      "Epoch 4/20\n",
      "736/736 [==============================] - 29s 39ms/step - loss: 0.4787 - accuracy: 0.8368 - val_loss: 0.5932 - val_accuracy: 0.7953\n",
      "Epoch 5/20\n",
      "736/736 [==============================] - 29s 39ms/step - loss: 0.3687 - accuracy: 0.8755 - val_loss: 0.4921 - val_accuracy: 0.8369\n",
      "Epoch 6/20\n",
      "736/736 [==============================] - 29s 39ms/step - loss: 0.3099 - accuracy: 0.8958 - val_loss: 0.4709 - val_accuracy: 0.8520\n",
      "Epoch 7/20\n",
      "736/736 [==============================] - 29s 39ms/step - loss: 0.2635 - accuracy: 0.9107 - val_loss: 0.3940 - val_accuracy: 0.8786\n",
      "Epoch 8/20\n",
      "736/736 [==============================] - 29s 39ms/step - loss: 0.2299 - accuracy: 0.9221 - val_loss: 0.4350 - val_accuracy: 0.8636\n",
      "Epoch 9/20\n",
      "736/736 [==============================] - 29s 39ms/step - loss: 0.1948 - accuracy: 0.9334 - val_loss: 0.4037 - val_accuracy: 0.8688\n",
      "Epoch 10/20\n",
      "736/736 [==============================] - 29s 40ms/step - loss: 0.1772 - accuracy: 0.9391 - val_loss: 0.3614 - val_accuracy: 0.8892\n",
      "Epoch 11/20\n",
      "736/736 [==============================] - 29s 39ms/step - loss: 0.1530 - accuracy: 0.9486 - val_loss: 0.3540 - val_accuracy: 0.8930\n",
      "Epoch 12/20\n",
      "736/736 [==============================] - 29s 39ms/step - loss: 0.1388 - accuracy: 0.9532 - val_loss: 0.3769 - val_accuracy: 0.8907\n",
      "Epoch 13/20\n",
      "736/736 [==============================] - 29s 40ms/step - loss: 0.1411 - accuracy: 0.9522 - val_loss: 0.4006 - val_accuracy: 0.8767\n",
      "Epoch 14/20\n",
      "736/736 [==============================] - 29s 40ms/step - loss: 0.1185 - accuracy: 0.9607 - val_loss: 0.4137 - val_accuracy: 0.8826\n",
      "Epoch 15/20\n",
      "736/736 [==============================] - 29s 39ms/step - loss: 0.1154 - accuracy: 0.9624 - val_loss: 0.4347 - val_accuracy: 0.8826\n",
      "Epoch 16/20\n",
      "736/736 [==============================] - 29s 40ms/step - loss: 0.1037 - accuracy: 0.9635 - val_loss: 0.4450 - val_accuracy: 0.8783\n",
      "Epoch 17/20\n",
      "736/736 [==============================] - 29s 39ms/step - loss: 0.1055 - accuracy: 0.9634 - val_loss: 0.4650 - val_accuracy: 0.8813\n",
      "Epoch 18/20\n",
      "736/736 [==============================] - 29s 40ms/step - loss: 0.1018 - accuracy: 0.9653 - val_loss: 0.4103 - val_accuracy: 0.8947\n",
      "Epoch 19/20\n",
      "736/736 [==============================] - 29s 40ms/step - loss: 0.0861 - accuracy: 0.9716 - val_loss: 0.3367 - val_accuracy: 0.9152\n",
      "Epoch 20/20\n",
      "736/736 [==============================] - 29s 39ms/step - loss: 0.0859 - accuracy: 0.9703 - val_loss: 0.4350 - val_accuracy: 0.8935\n"
     ]
    }
   ],
   "source": [
    "epochs = 20\n",
    "history = vggnet_model.fit(X_train_std,Y_train,validation_split=0.25,epochs=epochs)"
   ]
  },
  {
   "cell_type": "code",
   "execution_count": 18,
   "metadata": {},
   "outputs": [
    {
     "data": {
      "image/png": "[encoded data removed]",
      "text/plain": [
       "<Figure size 504x360 with 1 Axes>"
      ]
     },
     "metadata": {
      "needs_background": "light"
     },
     "output_type": "display_data"
    }
   ],
   "source": [
    "plt.figure(figsize=(7,5))\n",
    "plt.plot(history.history['val_accuracy'],linewidth = 4)\n",
    "plt.plot(history.history['accuracy'],linewidth = 4)\n",
    "\n",
    "plt.title(\"Training and Validation Accuracy\",fontsize=12)\n",
    "plt.ylabel(\"Accuracy\",fontsize=12)\n",
    "plt.xlabel(\"Number of epochs\",fontsize=12)\n",
    "plt.legend(['val','train'],loc = 'lower right')\n",
    "plt.grid()\n",
    "\n",
    "plt.show()"
   ]
  },
  {
   "cell_type": "code",
   "execution_count": 19,
   "metadata": {},
   "outputs": [
    {
     "data": {
      "image/png": "[encoded data removed]",
      "text/plain": [
       "<Figure size 504x360 with 1 Axes>"
      ]
     },
     "metadata": {
      "needs_background": "light"
     },
     "output_type": "display_data"
    }
   ],
   "source": [
    "plt.figure(figsize=(7,5))\n",
    "plt.plot(history.history['loss'],linewidth = 4)\n",
    "plt.plot(history.history['val_loss'],linewidth = 4)\n",
    "\n",
    "plt.title(\"Training and Validation Loss\",fontsize=12)\n",
    "plt.ylabel(\"Loss\",fontsize=12)\n",
    "plt.xlabel(\"Number of epochs\",fontsize=12)\n",
    "plt.legend(['train','val'],loc = 'upper right')\n",
    "plt.grid()\n",
    "plt.show()\n"
   ]
  },
  {
   "cell_type": "code",
   "execution_count": 20,
   "metadata": {},
   "outputs": [
    {
     "name": "stdout",
     "output_type": "stream",
     "text": [
      "246/246 [==============================] - 8s 30ms/step - loss: 0.4229 - accuracy: 0.8922\n",
      "0.42285826802253723 0.8922469019889832\n"
     ]
    }
   ],
   "source": [
    "score,acc = vggnet_model.evaluate(X_test_std,Y_test)\n",
    "print(score,acc)"
   ]
  },
  {
   "cell_type": "code",
   "execution_count": 21,
   "metadata": {},
   "outputs": [],
   "source": [
    "from PIL import Image\n",
    "import matplotlib.image as mpimg\n",
    "import cv2"
   ]
  },
  {
   "cell_type": "code",
   "execution_count": 22,
   "metadata": {},
   "outputs": [],
   "source": [
    "label_map = ['20_speed','30_speed','50_speed','60_speed','70_speed','80_speed','80_lifted','100_speed','120_speed','no_overtaking_general',\n",
    "'no_overtaking_trucks','right_of_way_crossing','right_of_way_general','give_way','stop','no_way_general','no_way_trucks',\n",
    "'no_way_one_way','attention_general','attention_left_turn','attention_right_turn','attention_curvy','attention_bumpers','attention_slippery',\n",
    "'attention_bottleneck','attention_construction','attention_traffic_light','attention_pedestrian','attention_children',\n",
    "'attention_bikes','attention_snowflake','attention_deer','lifted_general','turn_right','turn_left','turn_straight','turn_straight_right','turn_straight_left',\n",
    "'turn_right_down','turn_left_down','turn_circle','lifted_no_overtaking_general','lifted_no_overtaking_trucks']"
   ]
  },
  {
   "cell_type": "code",
   "execution_count": 23,
   "metadata": {},
   "outputs": [
    {
     "data": {
      "text/plain": [
       "43"
      ]
     },
     "execution_count": 23,
     "metadata": {},
     "output_type": "execute_result"
    }
   ],
   "source": [
    "len(label_map)"
   ]
  },
  {
   "cell_type": "code",
   "execution_count": 27,
   "metadata": {},
   "outputs": [
    {
     "name": "stdout",
     "output_type": "stream",
     "text": [
      "1\n",
      "30_speed\n"
     ]
    },
    {
     "data": {
      "image/png": "[encoded data removed]",
      "text/plain": [
       "<Figure size 432x288 with 1 Axes>"
      ]
     },
     "metadata": {
      "needs_background": "light"
     },
     "output_type": "display_data"
    }
   ],
   "source": [
    "img_test = cv2.imread(r'Test\\00001.png')\n",
    "img_resize = cv2.resize(img_test,(64,64))\n",
    "plt.imshow(mpimg.imread(r'Test\\00001.png'))\n",
    "# img_scaled = img_resize/255\n",
    "img_reshaped = np.reshape(img_resize,[1,64,64,3])\n",
    "input_pred = vggnet_model.predict(img_reshaped)\n",
    "input_label = np.argmax(input_pred)\n",
    "print(input_label)\n",
    "print(label_map[input_label])"
   ]
  },
  {
   "cell_type": "code",
   "execution_count": null,
   "metadata": {},
   "outputs": [],
   "source": []
  }
 ],
 "metadata": {
  "kernelspec": {
   "display_name": "Python 3.9.7 64-bit",
   "language": "python",
   "name": "python3"
  },
  "language_info": {
   "codemirror_mode": {
    "name": "ipython",
    "version": 3
   },
   "file_extension": ".py",
   "mimetype": "text/x-python",
   "name": "python",
   "nbconvert_exporter": "python",
   "pygments_lexer": "ipython3",
   "version": "3.9.7"
  },
  "orig_nbformat": 4,
  "vscode": {
   "interpreter": {
    "hash": "903d28fc8095cdeaee5be616f3ebb92fafee475741240b3f05159e4f3ac8bf72"
   }
  }
 },
 "nbformat": 4,
 "nbformat_minor": 2
}
